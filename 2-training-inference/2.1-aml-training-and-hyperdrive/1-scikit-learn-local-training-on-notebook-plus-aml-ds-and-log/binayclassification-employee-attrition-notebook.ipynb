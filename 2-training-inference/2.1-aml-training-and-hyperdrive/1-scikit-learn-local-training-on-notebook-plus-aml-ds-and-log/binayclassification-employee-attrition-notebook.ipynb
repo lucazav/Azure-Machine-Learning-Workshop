{
 "cells": [
  {
   "cell_type": "markdown",
   "metadata": {},
   "source": [
    "# Scikit-Learn binary classification model training on local notebook. \n",
    "## Plus Azure ML Dataset converted to Pandas DataFrames.\n",
    "_**The code is plain vanilla Scikit-Learn training/creation of a Binary classification model.**_\n",
    "\n",
    "_**Azure ML is only used to gather original data from an AML Dataset.**_\n",
    "\n",
    "_**This notebook can run on a local PC or on any Azure ML Compute Instance or Azure ML VM.**_\n",
    "\n",
    "This code is the baseline for the next labs/notebooks in the Workshop moving to AML remote compute, etc."
   ]
  },
  {
   "cell_type": "markdown",
   "metadata": {},
   "source": [
    "### Import libraries to use in notebook"
   ]
  },
  {
   "cell_type": "code",
   "execution_count": 1,
   "metadata": {},
   "outputs": [
    {
     "name": "stdout",
     "output_type": "stream",
     "text": [
      "Azure SDK version: 1.16.0\n",
      "scikit-learn version is 0.22.2.post1.\n",
      "joblib version is 0.14.1.\n",
      "pandas version is 0.25.3.\n"
     ]
    }
   ],
   "source": [
    "from sklearn.pipeline import Pipeline\n",
    "from sklearn.impute import SimpleImputer\n",
    "from sklearn.preprocessing import StandardScaler, OneHotEncoder\n",
    "from sklearn.svm import SVC\n",
    "import pandas as pd\n",
    "import numpy as np\n",
    "from azureml.core import Workspace, Dataset\n",
    "from azureml.core import Environment\n",
    "\n",
    "# Check versions\n",
    "import azureml.core\n",
    "import sklearn\n",
    "import joblib\n",
    "import pandas\n",
    "\n",
    "print(\"Azure SDK version:\", azureml.core.VERSION)\n",
    "print('scikit-learn version is {}.'.format(sklearn.__version__))\n",
    "print('joblib version is {}.'.format(joblib.__version__))\n",
    "print('pandas version is {}.'.format(pandas.__version__))"
   ]
  },
  {
   "cell_type": "markdown",
   "metadata": {},
   "source": [
    "### Create Workspace to load Tabular Datasets and log info from local training into AML"
   ]
  },
  {
   "cell_type": "code",
   "execution_count": 2,
   "metadata": {},
   "outputs": [],
   "source": [
    "# Connect to an existing Azure ML Workshop in order to use Azure ML Datasets and Runs Logging into AML\n",
    "\n",
    "ws = Workspace.from_config()"
   ]
  },
  {
   "cell_type": "markdown",
   "metadata": {},
   "source": [
    "### Load the IBM employee attrition data created before\n",
    "\n",
    "Note: as you are now accessing the workspace, the Notebook needs to be authenticated for access through device authentication. Hence, you will be prompted with a device login like so: \n",
    "\n",
    "    Performing interactive authentication. Please follow the instructions on the terminal.\n",
    "    To sign in, use a web browser to open the page https://microsoft.com/devicelogin and enter the code ARQPFR4B4 to authenticate.\n",
    "    \n",
    "Please follow these instructions in a new browser tab."
   ]
  },
  {
   "cell_type": "code",
   "execution_count": 3,
   "metadata": {},
   "outputs": [
    {
     "data": {
      "text/html": [
       "<div>\n",
       "<style scoped>\n",
       "    .dataframe tbody tr th:only-of-type {\n",
       "        vertical-align: middle;\n",
       "    }\n",
       "\n",
       "    .dataframe tbody tr th {\n",
       "        vertical-align: top;\n",
       "    }\n",
       "\n",
       "    .dataframe thead th {\n",
       "        text-align: right;\n",
       "    }\n",
       "</style>\n",
       "<table border=\"1\" class=\"dataframe\">\n",
       "  <thead>\n",
       "    <tr style=\"text-align: right;\">\n",
       "      <th></th>\n",
       "      <th>Age</th>\n",
       "      <th>Attrition</th>\n",
       "      <th>BusinessTravel</th>\n",
       "      <th>DailyRate</th>\n",
       "      <th>Department</th>\n",
       "      <th>DistanceFromHome</th>\n",
       "      <th>Education</th>\n",
       "      <th>EducationField</th>\n",
       "      <th>EmployeeCount</th>\n",
       "      <th>EmployeeNumber</th>\n",
       "      <th>...</th>\n",
       "      <th>RelationshipSatisfaction</th>\n",
       "      <th>StandardHours</th>\n",
       "      <th>StockOptionLevel</th>\n",
       "      <th>TotalWorkingYears</th>\n",
       "      <th>TrainingTimesLastYear</th>\n",
       "      <th>WorkLifeBalance</th>\n",
       "      <th>YearsAtCompany</th>\n",
       "      <th>YearsInCurrentRole</th>\n",
       "      <th>YearsSinceLastPromotion</th>\n",
       "      <th>YearsWithCurrManager</th>\n",
       "    </tr>\n",
       "  </thead>\n",
       "  <tbody>\n",
       "    <tr>\n",
       "      <th>0</th>\n",
       "      <td>41</td>\n",
       "      <td>1</td>\n",
       "      <td>Travel_Rarely</td>\n",
       "      <td>1102</td>\n",
       "      <td>Sales</td>\n",
       "      <td>1</td>\n",
       "      <td>2</td>\n",
       "      <td>Life Sciences</td>\n",
       "      <td>1</td>\n",
       "      <td>1</td>\n",
       "      <td>...</td>\n",
       "      <td>1</td>\n",
       "      <td>80</td>\n",
       "      <td>0</td>\n",
       "      <td>8</td>\n",
       "      <td>0</td>\n",
       "      <td>1</td>\n",
       "      <td>6</td>\n",
       "      <td>4</td>\n",
       "      <td>0</td>\n",
       "      <td>5</td>\n",
       "    </tr>\n",
       "    <tr>\n",
       "      <th>1</th>\n",
       "      <td>49</td>\n",
       "      <td>0</td>\n",
       "      <td>Travel_Frequently</td>\n",
       "      <td>279</td>\n",
       "      <td>Research &amp; Development</td>\n",
       "      <td>8</td>\n",
       "      <td>1</td>\n",
       "      <td>Life Sciences</td>\n",
       "      <td>1</td>\n",
       "      <td>2</td>\n",
       "      <td>...</td>\n",
       "      <td>4</td>\n",
       "      <td>80</td>\n",
       "      <td>1</td>\n",
       "      <td>10</td>\n",
       "      <td>3</td>\n",
       "      <td>3</td>\n",
       "      <td>10</td>\n",
       "      <td>7</td>\n",
       "      <td>1</td>\n",
       "      <td>7</td>\n",
       "    </tr>\n",
       "    <tr>\n",
       "      <th>2</th>\n",
       "      <td>37</td>\n",
       "      <td>1</td>\n",
       "      <td>Travel_Rarely</td>\n",
       "      <td>1373</td>\n",
       "      <td>Research &amp; Development</td>\n",
       "      <td>2</td>\n",
       "      <td>2</td>\n",
       "      <td>Other</td>\n",
       "      <td>1</td>\n",
       "      <td>4</td>\n",
       "      <td>...</td>\n",
       "      <td>2</td>\n",
       "      <td>80</td>\n",
       "      <td>0</td>\n",
       "      <td>7</td>\n",
       "      <td>3</td>\n",
       "      <td>3</td>\n",
       "      <td>0</td>\n",
       "      <td>0</td>\n",
       "      <td>0</td>\n",
       "      <td>0</td>\n",
       "    </tr>\n",
       "    <tr>\n",
       "      <th>3</th>\n",
       "      <td>33</td>\n",
       "      <td>0</td>\n",
       "      <td>Travel_Frequently</td>\n",
       "      <td>1392</td>\n",
       "      <td>Research &amp; Development</td>\n",
       "      <td>3</td>\n",
       "      <td>4</td>\n",
       "      <td>Life Sciences</td>\n",
       "      <td>1</td>\n",
       "      <td>5</td>\n",
       "      <td>...</td>\n",
       "      <td>3</td>\n",
       "      <td>80</td>\n",
       "      <td>0</td>\n",
       "      <td>8</td>\n",
       "      <td>3</td>\n",
       "      <td>3</td>\n",
       "      <td>8</td>\n",
       "      <td>7</td>\n",
       "      <td>3</td>\n",
       "      <td>0</td>\n",
       "    </tr>\n",
       "    <tr>\n",
       "      <th>4</th>\n",
       "      <td>27</td>\n",
       "      <td>0</td>\n",
       "      <td>Travel_Rarely</td>\n",
       "      <td>591</td>\n",
       "      <td>Research &amp; Development</td>\n",
       "      <td>2</td>\n",
       "      <td>1</td>\n",
       "      <td>Medical</td>\n",
       "      <td>1</td>\n",
       "      <td>7</td>\n",
       "      <td>...</td>\n",
       "      <td>4</td>\n",
       "      <td>80</td>\n",
       "      <td>1</td>\n",
       "      <td>6</td>\n",
       "      <td>3</td>\n",
       "      <td>3</td>\n",
       "      <td>2</td>\n",
       "      <td>2</td>\n",
       "      <td>2</td>\n",
       "      <td>2</td>\n",
       "    </tr>\n",
       "  </tbody>\n",
       "</table>\n",
       "<p>5 rows × 35 columns</p>\n",
       "</div>"
      ],
      "text/plain": [
       "   Age  Attrition     BusinessTravel  DailyRate              Department  \\\n",
       "0   41          1      Travel_Rarely       1102                   Sales   \n",
       "1   49          0  Travel_Frequently        279  Research & Development   \n",
       "2   37          1      Travel_Rarely       1373  Research & Development   \n",
       "3   33          0  Travel_Frequently       1392  Research & Development   \n",
       "4   27          0      Travel_Rarely        591  Research & Development   \n",
       "\n",
       "   DistanceFromHome  Education EducationField  EmployeeCount  EmployeeNumber  \\\n",
       "0                 1          2  Life Sciences              1               1   \n",
       "1                 8          1  Life Sciences              1               2   \n",
       "2                 2          2          Other              1               4   \n",
       "3                 3          4  Life Sciences              1               5   \n",
       "4                 2          1        Medical              1               7   \n",
       "\n",
       "   ...  RelationshipSatisfaction StandardHours  StockOptionLevel  \\\n",
       "0  ...                         1            80                 0   \n",
       "1  ...                         4            80                 1   \n",
       "2  ...                         2            80                 0   \n",
       "3  ...                         3            80                 0   \n",
       "4  ...                         4            80                 1   \n",
       "\n",
       "   TotalWorkingYears  TrainingTimesLastYear WorkLifeBalance  YearsAtCompany  \\\n",
       "0                  8                      0               1               6   \n",
       "1                 10                      3               3              10   \n",
       "2                  7                      3               3               0   \n",
       "3                  8                      3               3               8   \n",
       "4                  6                      3               3               2   \n",
       "\n",
       "  YearsInCurrentRole  YearsSinceLastPromotion  YearsWithCurrManager  \n",
       "0                  4                        0                     5  \n",
       "1                  7                        1                     7  \n",
       "2                  0                        0                     0  \n",
       "3                  7                        3                     0  \n",
       "4                  2                        2                     2  \n",
       "\n",
       "[5 rows x 35 columns]"
      ]
     },
     "execution_count": 3,
     "metadata": {},
     "output_type": "execute_result"
    }
   ],
   "source": [
    "# get the IBM employee attrition dataset from the workspace\n",
    "attritionData = ws.datasets['IBM-Employee-Attrition'].to_pandas_dataframe()\n",
    "attritionData.head()"
   ]
  },
  {
   "cell_type": "markdown",
   "metadata": {},
   "source": [
    "## Clean up the initial dataset"
   ]
  },
  {
   "cell_type": "code",
   "execution_count": 4,
   "metadata": {},
   "outputs": [],
   "source": [
    "# Dropping Employee Count and Over18 as all values are 1 and hence attrition is independent of this feature\n",
    "attritionData = attritionData.drop(['EmployeeCount'], axis=1)\n",
    "attritionData = attritionData.drop(['Over18'], axis=1)\n",
    "\n",
    "# Dropping Employee Number since it is merely an identifier\n",
    "attritionData = attritionData.drop(['EmployeeNumber'], axis=1)\n",
    "\n",
    "# Since all values are 80 let's drop also StandardHours\n",
    "attritionData = attritionData.drop(['StandardHours'], axis=1)\n",
    "\n",
    "target = attritionData[\"Attrition\"]\n",
    "\n",
    "attritionXData = attritionData.drop(['Attrition'], axis=1)"
   ]
  },
  {
   "cell_type": "markdown",
   "metadata": {},
   "source": [
    "## Split in Train and Test datasets (DataFrames)"
   ]
  },
  {
   "cell_type": "code",
   "execution_count": 5,
   "metadata": {},
   "outputs": [],
   "source": [
    "# Split data into train and test\n",
    "from sklearn.model_selection import train_test_split\n",
    "x_train, x_test, y_train, y_test = train_test_split(attritionXData, \n",
    "                                                    target, \n",
    "                                                    test_size = 0.2,\n",
    "                                                    random_state=0,\n",
    "                                                    stratify=target)"
   ]
  },
  {
   "cell_type": "markdown",
   "metadata": {},
   "source": [
    "## Transform data"
   ]
  },
  {
   "cell_type": "code",
   "execution_count": 6,
   "metadata": {},
   "outputs": [],
   "source": [
    "# Collect the categorical and numerical column names in separate lists\n",
    "categorical = []\n",
    "for col, value in attritionXData.iteritems():\n",
    "    if value.dtype == 'object':\n",
    "        categorical.append(col)\n",
    "        \n",
    "numerical = attritionXData.columns.difference(categorical)"
   ]
  },
  {
   "cell_type": "markdown",
   "metadata": {},
   "source": [
    "### Transform raw features\n",
    "We can explain raw features by either using a sklearn.compose.ColumnTransformer or a list of fitted transformer tuples. The cell below uses sklearn.compose.ColumnTransformer. In case you want to run the example with the list of fitted transformer tuples, comment the cell below and uncomment the cell that follows after."
   ]
  },
  {
   "cell_type": "markdown",
   "metadata": {},
   "source": [
    "## Create data processing pipelines (Scikit-Learn pipelines)\n",
    "NOTE: This code uses Scikit-Learn pipelines. Not related to AML Pipelines. Different concept. "
   ]
  },
  {
   "cell_type": "code",
   "execution_count": 7,
   "metadata": {},
   "outputs": [],
   "source": [
    "from sklearn.compose import ColumnTransformer\n",
    "\n",
    "# We create the transformations pipelines for both numeric and categorical data.\n",
    "numeric_transformer = Pipeline(steps=[\n",
    "    ('imputer', SimpleImputer(strategy='median')),\n",
    "    ('scaler', StandardScaler())])\n",
    "\n",
    "categorical_transformer = Pipeline(steps=[\n",
    "    ('imputer', SimpleImputer(strategy='constant', fill_value='missing')),\n",
    "    ('onehot', OneHotEncoder(handle_unknown='ignore'))])\n",
    "\n",
    "transforms_pipeline = ColumnTransformer(\n",
    "    transformers=[\n",
    "        ('num', numeric_transformer, numerical),\n",
    "        ('cat', categorical_transformer, categorical)])"
   ]
  },
  {
   "cell_type": "markdown",
   "metadata": {},
   "source": [
    "## Add classifier algorithm (SVC: Support Vector Classifier) to the pipeline"
   ]
  },
  {
   "cell_type": "code",
   "execution_count": 8,
   "metadata": {},
   "outputs": [],
   "source": [
    "# Append classifier to Scikit-Learn transformations pipeline.\n",
    "# Now we have a full Scikit-Learn prediction pipeline.\n",
    "model_pipeline = Pipeline(steps=[('preprocessor', transforms_pipeline),\n",
    "                      ('classifier', SVC(kernel='linear', C = 1.0, probability=True))]) "
   ]
  },
  {
   "cell_type": "markdown",
   "metadata": {},
   "source": [
    "## Create AML Experiment, run and log just for logging info while training locally in Notebook"
   ]
  },
  {
   "cell_type": "markdown",
   "metadata": {},
   "source": [
    "Let's start an interactive logging session using *start_logging()*. It'll create also an interactive run in the specified experiment. Any metrics logged during the session are added to the run record in the experiment. The method *run.complete()* ends the sessions and marks the run as completed.\n",
    "You can find other logging examples [here](https://github.com/Azure/MachineLearningNotebooks/blob/master/how-to-use-azureml/track-and-monitor-experiments/logging-api/logging-api.ipynb)."
   ]
  },
  {
   "cell_type": "code",
   "execution_count": 61,
   "metadata": {},
   "outputs": [],
   "source": [
    "from azureml.core import Experiment\n",
    "\n",
    "# Get an experiment object from AML\n",
    "experiment = Experiment(workspace=ws, name=\"aml-wrkshp-local-train-notebook-log\")\n",
    "\n",
    "# Create an interactive run object in the experiment\n",
    "run =  experiment.start_logging()\n",
    "\n",
    "# Log the algorithm parameter C to the run\n",
    "run.log('C', 1.0)"
   ]
  },
  {
   "cell_type": "markdown",
   "metadata": {},
   "source": [
    "## Train the SVM (Support Vector Machine) Classifier Model"
   ]
  },
  {
   "cell_type": "code",
   "execution_count": 62,
   "metadata": {},
   "outputs": [],
   "source": [
    "model = model_pipeline.fit(x_train, y_train)"
   ]
  },
  {
   "cell_type": "markdown",
   "metadata": {},
   "source": [
    "## Make Predictions and calculate Accuracy metric"
   ]
  },
  {
   "cell_type": "code",
   "execution_count": 63,
   "metadata": {},
   "outputs": [
    {
     "data": {
      "text/html": [
       "<div>\n",
       "<style scoped>\n",
       "    .dataframe tbody tr th:only-of-type {\n",
       "        vertical-align: middle;\n",
       "    }\n",
       "\n",
       "    .dataframe tbody tr th {\n",
       "        vertical-align: top;\n",
       "    }\n",
       "\n",
       "    .dataframe thead th {\n",
       "        text-align: right;\n",
       "    }\n",
       "</style>\n",
       "<table border=\"1\" class=\"dataframe\">\n",
       "  <thead>\n",
       "    <tr style=\"text-align: right;\">\n",
       "      <th></th>\n",
       "      <th>Age</th>\n",
       "      <th>DailyRate</th>\n",
       "      <th>DistanceFromHome</th>\n",
       "      <th>Education</th>\n",
       "      <th>EnvironmentSatisfaction</th>\n",
       "      <th>HourlyRate</th>\n",
       "      <th>JobInvolvement</th>\n",
       "      <th>JobLevel</th>\n",
       "      <th>JobSatisfaction</th>\n",
       "      <th>MonthlyIncome</th>\n",
       "      <th>...</th>\n",
       "      <th>PerformanceRating</th>\n",
       "      <th>RelationshipSatisfaction</th>\n",
       "      <th>StockOptionLevel</th>\n",
       "      <th>TotalWorkingYears</th>\n",
       "      <th>TrainingTimesLastYear</th>\n",
       "      <th>WorkLifeBalance</th>\n",
       "      <th>YearsAtCompany</th>\n",
       "      <th>YearsInCurrentRole</th>\n",
       "      <th>YearsSinceLastPromotion</th>\n",
       "      <th>YearsWithCurrManager</th>\n",
       "    </tr>\n",
       "  </thead>\n",
       "  <tbody>\n",
       "    <tr>\n",
       "      <th>count</th>\n",
       "      <td>294.000000</td>\n",
       "      <td>294.000000</td>\n",
       "      <td>294.000000</td>\n",
       "      <td>294.000000</td>\n",
       "      <td>294.000000</td>\n",
       "      <td>294.000000</td>\n",
       "      <td>294.000000</td>\n",
       "      <td>294.000000</td>\n",
       "      <td>294.000000</td>\n",
       "      <td>294.000000</td>\n",
       "      <td>...</td>\n",
       "      <td>294.000000</td>\n",
       "      <td>294.000000</td>\n",
       "      <td>294.000000</td>\n",
       "      <td>294.000000</td>\n",
       "      <td>294.000000</td>\n",
       "      <td>294.000000</td>\n",
       "      <td>294.000000</td>\n",
       "      <td>294.000000</td>\n",
       "      <td>294.000000</td>\n",
       "      <td>294.000000</td>\n",
       "    </tr>\n",
       "    <tr>\n",
       "      <th>mean</th>\n",
       "      <td>36.489796</td>\n",
       "      <td>788.336735</td>\n",
       "      <td>8.812925</td>\n",
       "      <td>2.925170</td>\n",
       "      <td>2.690476</td>\n",
       "      <td>65.500000</td>\n",
       "      <td>2.727891</td>\n",
       "      <td>2.054422</td>\n",
       "      <td>2.863946</td>\n",
       "      <td>6352.948980</td>\n",
       "      <td>...</td>\n",
       "      <td>3.149660</td>\n",
       "      <td>2.670068</td>\n",
       "      <td>0.809524</td>\n",
       "      <td>10.632653</td>\n",
       "      <td>2.863946</td>\n",
       "      <td>2.727891</td>\n",
       "      <td>6.360544</td>\n",
       "      <td>4.112245</td>\n",
       "      <td>1.955782</td>\n",
       "      <td>3.894558</td>\n",
       "    </tr>\n",
       "    <tr>\n",
       "      <th>std</th>\n",
       "      <td>8.832818</td>\n",
       "      <td>406.133083</td>\n",
       "      <td>7.938482</td>\n",
       "      <td>0.957018</td>\n",
       "      <td>1.059386</td>\n",
       "      <td>20.292528</td>\n",
       "      <td>0.711273</td>\n",
       "      <td>1.027156</td>\n",
       "      <td>1.074936</td>\n",
       "      <td>4456.963665</td>\n",
       "      <td>...</td>\n",
       "      <td>0.357346</td>\n",
       "      <td>1.091382</td>\n",
       "      <td>0.837136</td>\n",
       "      <td>6.973946</td>\n",
       "      <td>1.348185</td>\n",
       "      <td>0.757739</td>\n",
       "      <td>5.206252</td>\n",
       "      <td>3.533987</td>\n",
       "      <td>2.891924</td>\n",
       "      <td>3.367041</td>\n",
       "    </tr>\n",
       "    <tr>\n",
       "      <th>min</th>\n",
       "      <td>18.000000</td>\n",
       "      <td>107.000000</td>\n",
       "      <td>1.000000</td>\n",
       "      <td>1.000000</td>\n",
       "      <td>1.000000</td>\n",
       "      <td>30.000000</td>\n",
       "      <td>1.000000</td>\n",
       "      <td>1.000000</td>\n",
       "      <td>1.000000</td>\n",
       "      <td>1052.000000</td>\n",
       "      <td>...</td>\n",
       "      <td>3.000000</td>\n",
       "      <td>1.000000</td>\n",
       "      <td>0.000000</td>\n",
       "      <td>0.000000</td>\n",
       "      <td>0.000000</td>\n",
       "      <td>1.000000</td>\n",
       "      <td>0.000000</td>\n",
       "      <td>0.000000</td>\n",
       "      <td>0.000000</td>\n",
       "      <td>0.000000</td>\n",
       "    </tr>\n",
       "    <tr>\n",
       "      <th>25%</th>\n",
       "      <td>30.000000</td>\n",
       "      <td>452.250000</td>\n",
       "      <td>2.000000</td>\n",
       "      <td>2.000000</td>\n",
       "      <td>2.000000</td>\n",
       "      <td>47.250000</td>\n",
       "      <td>2.000000</td>\n",
       "      <td>1.000000</td>\n",
       "      <td>2.000000</td>\n",
       "      <td>2986.250000</td>\n",
       "      <td>...</td>\n",
       "      <td>3.000000</td>\n",
       "      <td>2.000000</td>\n",
       "      <td>0.000000</td>\n",
       "      <td>6.000000</td>\n",
       "      <td>2.000000</td>\n",
       "      <td>2.000000</td>\n",
       "      <td>2.000000</td>\n",
       "      <td>2.000000</td>\n",
       "      <td>0.000000</td>\n",
       "      <td>2.000000</td>\n",
       "    </tr>\n",
       "    <tr>\n",
       "      <th>50%</th>\n",
       "      <td>35.000000</td>\n",
       "      <td>811.500000</td>\n",
       "      <td>7.000000</td>\n",
       "      <td>3.000000</td>\n",
       "      <td>3.000000</td>\n",
       "      <td>65.500000</td>\n",
       "      <td>3.000000</td>\n",
       "      <td>2.000000</td>\n",
       "      <td>3.000000</td>\n",
       "      <td>4966.000000</td>\n",
       "      <td>...</td>\n",
       "      <td>3.000000</td>\n",
       "      <td>3.000000</td>\n",
       "      <td>1.000000</td>\n",
       "      <td>9.500000</td>\n",
       "      <td>3.000000</td>\n",
       "      <td>3.000000</td>\n",
       "      <td>5.000000</td>\n",
       "      <td>3.000000</td>\n",
       "      <td>1.000000</td>\n",
       "      <td>2.000000</td>\n",
       "    </tr>\n",
       "    <tr>\n",
       "      <th>75%</th>\n",
       "      <td>42.000000</td>\n",
       "      <td>1135.000000</td>\n",
       "      <td>12.000000</td>\n",
       "      <td>4.000000</td>\n",
       "      <td>4.000000</td>\n",
       "      <td>83.750000</td>\n",
       "      <td>3.000000</td>\n",
       "      <td>2.000000</td>\n",
       "      <td>4.000000</td>\n",
       "      <td>7748.250000</td>\n",
       "      <td>...</td>\n",
       "      <td>3.000000</td>\n",
       "      <td>4.000000</td>\n",
       "      <td>1.000000</td>\n",
       "      <td>14.000000</td>\n",
       "      <td>3.000000</td>\n",
       "      <td>3.000000</td>\n",
       "      <td>9.000000</td>\n",
       "      <td>7.000000</td>\n",
       "      <td>2.000000</td>\n",
       "      <td>7.000000</td>\n",
       "    </tr>\n",
       "    <tr>\n",
       "      <th>max</th>\n",
       "      <td>60.000000</td>\n",
       "      <td>1496.000000</td>\n",
       "      <td>29.000000</td>\n",
       "      <td>5.000000</td>\n",
       "      <td>4.000000</td>\n",
       "      <td>100.000000</td>\n",
       "      <td>4.000000</td>\n",
       "      <td>5.000000</td>\n",
       "      <td>4.000000</td>\n",
       "      <td>19926.000000</td>\n",
       "      <td>...</td>\n",
       "      <td>4.000000</td>\n",
       "      <td>4.000000</td>\n",
       "      <td>3.000000</td>\n",
       "      <td>36.000000</td>\n",
       "      <td>6.000000</td>\n",
       "      <td>4.000000</td>\n",
       "      <td>29.000000</td>\n",
       "      <td>16.000000</td>\n",
       "      <td>15.000000</td>\n",
       "      <td>13.000000</td>\n",
       "    </tr>\n",
       "  </tbody>\n",
       "</table>\n",
       "<p>8 rows × 24 columns</p>\n",
       "</div>"
      ],
      "text/plain": [
       "              Age    DailyRate  DistanceFromHome   Education  \\\n",
       "count  294.000000   294.000000        294.000000  294.000000   \n",
       "mean    36.489796   788.336735          8.812925    2.925170   \n",
       "std      8.832818   406.133083          7.938482    0.957018   \n",
       "min     18.000000   107.000000          1.000000    1.000000   \n",
       "25%     30.000000   452.250000          2.000000    2.000000   \n",
       "50%     35.000000   811.500000          7.000000    3.000000   \n",
       "75%     42.000000  1135.000000         12.000000    4.000000   \n",
       "max     60.000000  1496.000000         29.000000    5.000000   \n",
       "\n",
       "       EnvironmentSatisfaction  HourlyRate  JobInvolvement    JobLevel  \\\n",
       "count               294.000000  294.000000      294.000000  294.000000   \n",
       "mean                  2.690476   65.500000        2.727891    2.054422   \n",
       "std                   1.059386   20.292528        0.711273    1.027156   \n",
       "min                   1.000000   30.000000        1.000000    1.000000   \n",
       "25%                   2.000000   47.250000        2.000000    1.000000   \n",
       "50%                   3.000000   65.500000        3.000000    2.000000   \n",
       "75%                   4.000000   83.750000        3.000000    2.000000   \n",
       "max                   4.000000  100.000000        4.000000    5.000000   \n",
       "\n",
       "       JobSatisfaction  MonthlyIncome  ...  PerformanceRating  \\\n",
       "count       294.000000     294.000000  ...         294.000000   \n",
       "mean          2.863946    6352.948980  ...           3.149660   \n",
       "std           1.074936    4456.963665  ...           0.357346   \n",
       "min           1.000000    1052.000000  ...           3.000000   \n",
       "25%           2.000000    2986.250000  ...           3.000000   \n",
       "50%           3.000000    4966.000000  ...           3.000000   \n",
       "75%           4.000000    7748.250000  ...           3.000000   \n",
       "max           4.000000   19926.000000  ...           4.000000   \n",
       "\n",
       "       RelationshipSatisfaction  StockOptionLevel  TotalWorkingYears  \\\n",
       "count                294.000000        294.000000         294.000000   \n",
       "mean                   2.670068          0.809524          10.632653   \n",
       "std                    1.091382          0.837136           6.973946   \n",
       "min                    1.000000          0.000000           0.000000   \n",
       "25%                    2.000000          0.000000           6.000000   \n",
       "50%                    3.000000          1.000000           9.500000   \n",
       "75%                    4.000000          1.000000          14.000000   \n",
       "max                    4.000000          3.000000          36.000000   \n",
       "\n",
       "       TrainingTimesLastYear  WorkLifeBalance  YearsAtCompany  \\\n",
       "count             294.000000       294.000000      294.000000   \n",
       "mean                2.863946         2.727891        6.360544   \n",
       "std                 1.348185         0.757739        5.206252   \n",
       "min                 0.000000         1.000000        0.000000   \n",
       "25%                 2.000000         2.000000        2.000000   \n",
       "50%                 3.000000         3.000000        5.000000   \n",
       "75%                 3.000000         3.000000        9.000000   \n",
       "max                 6.000000         4.000000       29.000000   \n",
       "\n",
       "       YearsInCurrentRole  YearsSinceLastPromotion  YearsWithCurrManager  \n",
       "count          294.000000               294.000000            294.000000  \n",
       "mean             4.112245                 1.955782              3.894558  \n",
       "std              3.533987                 2.891924              3.367041  \n",
       "min              0.000000                 0.000000              0.000000  \n",
       "25%              2.000000                 0.000000              2.000000  \n",
       "50%              3.000000                 1.000000              2.000000  \n",
       "75%              7.000000                 2.000000              7.000000  \n",
       "max             16.000000                15.000000             13.000000  \n",
       "\n",
       "[8 rows x 24 columns]"
      ]
     },
     "execution_count": 63,
     "metadata": {},
     "output_type": "execute_result"
    }
   ],
   "source": [
    "x_test.describe()"
   ]
  },
  {
   "cell_type": "code",
   "execution_count": 64,
   "metadata": {},
   "outputs": [
    {
     "data": {
      "text/html": [
       "<div>\n",
       "<style scoped>\n",
       "    .dataframe tbody tr th:only-of-type {\n",
       "        vertical-align: middle;\n",
       "    }\n",
       "\n",
       "    .dataframe tbody tr th {\n",
       "        vertical-align: top;\n",
       "    }\n",
       "\n",
       "    .dataframe thead th {\n",
       "        text-align: right;\n",
       "    }\n",
       "</style>\n",
       "<table border=\"1\" class=\"dataframe\">\n",
       "  <thead>\n",
       "    <tr style=\"text-align: right;\">\n",
       "      <th></th>\n",
       "      <th>SVM</th>\n",
       "    </tr>\n",
       "  </thead>\n",
       "  <tbody>\n",
       "    <tr>\n",
       "      <th>Accuracy</th>\n",
       "      <td>0.880952</td>\n",
       "    </tr>\n",
       "    <tr>\n",
       "      <th>ROC-AUC</th>\n",
       "      <td>0.653502</td>\n",
       "    </tr>\n",
       "    <tr>\n",
       "      <th>Avg Precision</th>\n",
       "      <td>0.374801</td>\n",
       "    </tr>\n",
       "  </tbody>\n",
       "</table>\n",
       "</div>"
      ],
      "text/plain": [
       "                    SVM\n",
       "Accuracy       0.880952\n",
       "ROC-AUC        0.653502\n",
       "Avg Precision  0.374801"
      ]
     },
     "execution_count": 64,
     "metadata": {},
     "output_type": "execute_result"
    }
   ],
   "source": [
    "from sklearn.metrics import accuracy_score\n",
    "from sklearn.metrics import roc_auc_score\n",
    "from sklearn.metrics import average_precision_score\n",
    "\n",
    "\n",
    "# Make Multiple Predictions\n",
    "y_predictions = model.predict(x_test)\n",
    "\n",
    "accuracy = accuracy_score(y_test, y_predictions)\n",
    "rocauc = roc_auc_score(y_test, y_predictions)\n",
    "average_precision = average_precision_score(y_test, y_predictions)\n",
    "\n",
    "model_details_df = pd.DataFrame([accuracy, rocauc, average_precision],\n",
    "                                columns = ['SVM'],\n",
    "                                index=['Accuracy','ROC-AUC','Avg Precision'])\n",
    "\n",
    "model_details_df\n"
   ]
  },
  {
   "cell_type": "code",
   "execution_count": 65,
   "metadata": {},
   "outputs": [
    {
     "data": {
      "image/png": "[encoded data removed]",
      "text/plain": [
       "<Figure size 432x288 with 1 Axes>"
      ]
     },
     "metadata": {
      "needs_background": "light"
     },
     "output_type": "display_data"
    }
   ],
   "source": [
    "from sklearn.metrics import roc_curve\n",
    "import matplotlib.pyplot as plt\n",
    "\n",
    "y_pred_proba = model.predict_proba(x_test)[::,1]\n",
    "\n",
    "fpr, tpr, _ = roc_curve(y_test,  y_pred_proba)\n",
    "\n",
    "plt.plot(fpr,tpr,label=\"data 1, auc=\"+str(rocauc))\n",
    "plt.legend(loc=4)\n",
    "run.log_image(\"ROC Curve\", plot=plt)\n",
    "#plt.show()"
   ]
  },
  {
   "cell_type": "markdown",
   "metadata": {},
   "source": [
    "## Log metric and model into the AML run definition\n",
    "### Note that training is local, we just use the run definition to log information about the run/training "
   ]
  },
  {
   "cell_type": "code",
   "execution_count": 66,
   "metadata": {},
   "outputs": [
    {
     "data": {
      "text/plain": [
       "'/mnt/batch/tasks/shared/LS_root/mounts/clusters/azureml-ci/code/azureml-workshop-2019/2-training-inference/2.1-aml-training-and-hyperdrive/1-scikit-learn-local-training-on-notebook-plus-aml-ds-and-log'"
      ]
     },
     "execution_count": 66,
     "metadata": {},
     "output_type": "execute_result"
    }
   ],
   "source": [
    "# Current folder, where the pkl file will be created\n",
    "import os\n",
    "os.getcwd()"
   ]
  },
  {
   "cell_type": "code",
   "execution_count": 67,
   "metadata": {},
   "outputs": [],
   "source": [
    "# Output the Mean Squared Error to the notebook and to the run\n",
    " \n",
    "run.log('Accuracy', accuracy)\n",
    "run.log('ROC-AUC', rocauc)\n",
    "run.log('Avg Precision', average_precision)\n",
    "\n",
    "\n",
    "# Save the model to the outputs directory for capture\n",
    "model_file_name = 'outputs/model.pkl'\n",
    "\n",
    "# Allow local file overwriting\n",
    "model_file_obj = open(model_file_name, 'wb')\n",
    "\n",
    "# Persiste the model into the pkl file\n",
    "joblib.dump(value = model, filename = model_file_obj)"
   ]
  },
  {
   "cell_type": "code",
   "execution_count": 68,
   "metadata": {},
   "outputs": [],
   "source": [
    "# Any file into the ./output folder will be automatically uploaded into the run artifacts \n",
    "run.complete()"
   ]
  },
  {
   "cell_type": "code",
   "execution_count": null,
   "metadata": {},
   "outputs": [],
   "source": [
    "# # In case of duplicate artifact errors\n",
    "# run.cancel() # Even if an exception is thrown, the run will be canceled anyway"
   ]
  },
  {
   "cell_type": "markdown",
   "metadata": {},
   "source": [
    "### Check the experiment run and its logged info in Azure ML Workspace\n",
    "Now, you should go to your AML Workspace and check the information logged for this run, such as the accuracy, hyper-parameters and any other info you logged for the experiment run."
   ]
  },
  {
   "cell_type": "markdown",
   "metadata": {},
   "source": [
    "## Confusion Matrix"
   ]
  },
  {
   "cell_type": "markdown",
   "metadata": {},
   "source": [
    "You can easly get the values of the confusion matrix associated to the model in the following way:"
   ]
  },
  {
   "cell_type": "code",
   "execution_count": 74,
   "metadata": {},
   "outputs": [
    {
     "name": "stdout",
     "output_type": "stream",
     "text": [
      "Confusion matrix, without normalization\n",
      "[[244   3]\n",
      " [ 32  15]]\n",
      "Normalized confusion matrix\n",
      "[[0.98785425 0.01214575]\n",
      " [0.68085106 0.31914894]]\n"
     ]
    },
    {
     "data": {
      "image/png": "[encoded data removed]",
      "text/plain": [
       "<Figure size 432x288 with 2 Axes>"
      ]
     },
     "metadata": {
      "needs_background": "light"
     },
     "output_type": "display_data"
    },
    {
     "data": {
      "image/png": "[encoded data removed]",
      "text/plain": [
       "<Figure size 432x288 with 2 Axes>"
      ]
     },
     "metadata": {
      "needs_background": "light"
     },
     "output_type": "display_data"
    }
   ],
   "source": [
    "import matplotlib.pyplot as plt\n",
    "from sklearn.metrics import plot_confusion_matrix\n",
    "\n",
    "class_names = y_train.unique()\n",
    "\n",
    "# Plot non-normalized confusion matrix\n",
    "titles_options = [(\"Confusion matrix, without normalization\", None),\n",
    "                  (\"Normalized confusion matrix\", 'true')]\n",
    "for title, normalize in titles_options:\n",
    "    disp = plot_confusion_matrix(model, x_test, y_test,\n",
    "                                 display_labels=class_names,\n",
    "                                 cmap=plt.cm.Blues,\n",
    "                                 normalize=normalize)\n",
    "    disp.ax_.set_title(title)\n",
    "\n",
    "    print(title)\n",
    "    print(disp.confusion_matrix)\n",
    "\n",
    "plt.show()"
   ]
  },
  {
   "cell_type": "code",
   "execution_count": 82,
   "metadata": {},
   "outputs": [
    {
     "name": "stdout",
     "output_type": "stream",
     "text": [
      "Classes:\n",
      "[0 1]\n",
      "Prediction label for instance 6 :\n",
      "1\n",
      "Prediction probabilities for instance 6 :\n",
      "[0.52713004 0.47286996]\n"
     ]
    },
    {
     "data": {
      "text/plain": [
       "Age                                           47\n",
       "BusinessTravel                     Travel_Rarely\n",
       "DailyRate                                   1454\n",
       "Department                                 Sales\n",
       "DistanceFromHome                               2\n",
       "Education                                      4\n",
       "EducationField                     Life Sciences\n",
       "EnvironmentSatisfaction                        4\n",
       "Gender                                    Female\n",
       "HourlyRate                                    65\n",
       "JobInvolvement                                 2\n",
       "JobLevel                                       1\n",
       "JobRole                     Sales Representative\n",
       "JobSatisfaction                                4\n",
       "MaritalStatus                             Single\n",
       "MonthlyIncome                               3294\n",
       "MonthlyRate                                13137\n",
       "NumCompaniesWorked                             1\n",
       "OverTime                                       1\n",
       "PercentSalaryHike                             18\n",
       "PerformanceRating                              3\n",
       "RelationshipSatisfaction                       1\n",
       "StockOptionLevel                               0\n",
       "TotalWorkingYears                              3\n",
       "TrainingTimesLastYear                          3\n",
       "WorkLifeBalance                                2\n",
       "YearsAtCompany                                 3\n",
       "YearsInCurrentRole                             2\n",
       "YearsSinceLastPromotion                        1\n",
       "YearsWithCurrManager                           2\n",
       "Name: 665, dtype: object"
      ]
     },
     "execution_count": 82,
     "metadata": {},
     "output_type": "execute_result"
    }
   ],
   "source": [
    "# Index of the instance you want to use as input for a prediction\n",
    "instance_num = 6 # The seventh instance from the beginning (0-based)\n",
    "\n",
    "# Get the prediction for the upon defined index\n",
    "prediction_values = model.predict(x_test)\n",
    "prediction_probs = model.predict_proba(x_test)\n",
    "\n",
    "print(\"Classes:\")\n",
    "print(model.classes_)\n",
    "\n",
    "print(\"Prediction label for instance\", instance_num, \":\")\n",
    "print(prediction_values[instance_num])\n",
    "\n",
    "print(\"Prediction probabilities for instance\", instance_num, \":\")\n",
    "print(prediction_probs[instance_num])\n",
    "\n",
    "x_test.iloc[instance_num]"
   ]
  },
  {
   "cell_type": "code",
   "execution_count": 93,
   "metadata": {},
   "outputs": [
    {
     "data": {
      "text/plain": [
       "array([[0.97776338, 0.02223662],\n",
       "       [0.91713267, 0.08286733],\n",
       "       [0.60181035, 0.39818965],\n",
       "       [0.85908046, 0.14091954],\n",
       "       [0.95513197, 0.04486803],\n",
       "       [0.85916381, 0.14083619],\n",
       "       [0.52713004, 0.47286996]])"
      ]
     },
     "execution_count": 93,
     "metadata": {},
     "output_type": "execute_result"
    }
   ],
   "source": [
    "prediction_probs[0:7]"
   ]
  },
  {
   "cell_type": "code",
   "execution_count": 94,
   "metadata": {},
   "outputs": [
    {
     "data": {
      "text/plain": [
       "array([0, 0, 0, 0, 0, 0, 1])"
      ]
     },
     "execution_count": 94,
     "metadata": {},
     "output_type": "execute_result"
    }
   ],
   "source": [
    "prediction_values[0:7]"
   ]
  },
  {
   "cell_type": "markdown",
   "metadata": {},
   "source": [
    "I expected the default used threshold was 0.5. If so the 7th predicted label would be 0.\n",
    "\n",
    "Since it's 1, I'm looking for the possible used threhsold:"
   ]
  },
  {
   "cell_type": "code",
   "execution_count": 128,
   "metadata": {},
   "outputs": [
    {
     "name": "stdout",
     "output_type": "stream",
     "text": [
      "Possible used threshold is: 0.42\n",
      "Possible used threshold is: 0.43\n",
      "Possible used threshold is: 0.44\n"
     ]
    }
   ],
   "source": [
    "for tr in np.arange(0.0, 1.0, 0.01):\n",
    "    if all( np.where(prediction_probs[:,1] > tr, True, False) == prediction_values ):\n",
    "        print('Possible used threshold is:', tr)"
   ]
  }
 ],
 "metadata": {
  "file_extension": ".py",
  "kernelspec": {
   "display_name": "Python 3.6 - AzureML",
   "language": "python",
   "name": "python3-azureml"
  },
  "language_info": {
   "codemirror_mode": {
    "name": "ipython",
    "version": 3
   },
   "file_extension": ".py",
   "mimetype": "text/x-python",
   "name": "python",
   "nbconvert_exporter": "python",
   "pygments_lexer": "ipython3",
   "version": "3.6.9"
  },
  "mimetype": "text/x-python",
  "name": "python",
  "npconvert_exporter": "python",
  "nteract": {
   "version": "nteract-front-end@1.0.0"
  },
  "pygments_lexer": "ipython3",
  "version": 3
 },
 "nbformat": 4,
 "nbformat_minor": 4
}
